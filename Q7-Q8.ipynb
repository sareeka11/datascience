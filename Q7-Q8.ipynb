{
 "cells": [
  {
   "cell_type": "code",
   "execution_count": null,
   "metadata": {
    "collapsed": true
   },
   "outputs": [],
   "source": [
    "#Q7\n",
    "Independant Variables-Name,state,Sex\n",
    "Dependant Variables-Number of Siblings,Age,Income per month\n",
    "\n",
    "#Q8\n",
    "1.Increse in number of age will increase the number of siblings\n",
    "2.Increase in Income per month will decrese the number of siblings\n",
    "3.Increase in Age will decrease the Income per month"
   ]
  }
 ],
 "metadata": {
  "kernelspec": {
   "display_name": "Python 3",
   "language": "python",
   "name": "python3"
  },
  "language_info": {
   "codemirror_mode": {
    "name": "ipython",
    "version": 3
   },
   "file_extension": ".py",
   "mimetype": "text/x-python",
   "name": "python",
   "nbconvert_exporter": "python",
   "pygments_lexer": "ipython3",
   "version": "3.6.3"
  }
 },
 "nbformat": 4,
 "nbformat_minor": 2
}
