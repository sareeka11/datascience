{
 "cells": [
  {
   "cell_type": "code",
   "execution_count": 1,
   "metadata": {
    "collapsed": true
   },
   "outputs": [],
   "source": [
    "import numpy as np\n",
    "import pandas as pd\n",
    "import matplotlib.pyplot as plt\n",
    "import seaborn as sns"
   ]
  },
  {
   "cell_type": "code",
   "execution_count": 2,
   "metadata": {
    "collapsed": true
   },
   "outputs": [],
   "source": [
    "df=pd.read_csv(r\"C:\\Users\\sbagad\\Downloads\\Breast-Cancer-Detection-using-Machine-Learning-master\\cancer dataset.csv\")"
   ]
  },
  {
   "cell_type": "code",
   "execution_count": 3,
   "metadata": {
    "collapsed": true
   },
   "outputs": [],
   "source": [
    "from sklearn.preprocessing import LabelEncoder\n",
    "labelencoder_Y=LabelEncoder()\n",
    "df.iloc[:,1]=labelencoder_Y.fit_transform(df.iloc[:,1].values)"
   ]
  },
  {
   "cell_type": "code",
   "execution_count": 4,
   "metadata": {
    "collapsed": true
   },
   "outputs": [],
   "source": [
    "X=df.iloc[:,2:31].values \n",
    "Y=df.iloc[:,1].values "
   ]
  },
  {
   "cell_type": "code",
   "execution_count": 5,
   "metadata": {
    "collapsed": true
   },
   "outputs": [],
   "source": [
    "from sklearn.model_selection import train_test_split\n",
    "X_train, X_test, Y_train, Y_test= train_test_split(X,Y, test_size=0.25, random_state=0)"
   ]
  },
  {
   "cell_type": "code",
   "execution_count": 6,
   "metadata": {
    "collapsed": true
   },
   "outputs": [],
   "source": [
    "from sklearn.preprocessing import StandardScaler\n",
    "sc=StandardScaler()\n",
    "X_train=sc.fit_transform(X_train)\n",
    "X_test=sc.fit_transform(X_test)"
   ]
  },
  {
   "cell_type": "code",
   "execution_count": 7,
   "metadata": {
    "collapsed": true
   },
   "outputs": [],
   "source": [
    "#logistic regression\n",
    "def logreg (X_train, Y_train):\n",
    "    from sklearn.linear_model import LogisticRegression\n",
    "    log=LogisticRegression (random_state=0)\n",
    "    log.fit(X_train, Y_train)\n",
    "    print(\"Logistic Regression Training Accuracy:\", log.score(X_train, Y_train))\n",
    "    return log"
   ]
  },
  {
   "cell_type": "code",
   "execution_count": 8,
   "metadata": {},
   "outputs": [
    {
     "name": "stdout",
     "output_type": "stream",
     "text": [
      "Logistic Regression Training Accuracy: 0.990610328638\n"
     ]
    }
   ],
   "source": [
    "logrex=logreg(X_train, Y_train)"
   ]
  },
  {
   "cell_type": "code",
   "execution_count": 9,
   "metadata": {},
   "outputs": [
    {
     "name": "stdout",
     "output_type": "stream",
     "text": [
      "[[86  4]\n",
      " [ 3 50]]\n"
     ]
    }
   ],
   "source": [
    "from sklearn.metrics import confusion_matrix\n",
    "cm = confusion_matrix(Y_test, logrex.predict(X_test))\n",
    "print(cm)"
   ]
  },
  {
   "cell_type": "code",
   "execution_count": 10,
   "metadata": {},
   "outputs": [
    {
     "name": "stdout",
     "output_type": "stream",
     "text": [
      "Testing accuracy of logistic regression model= 0.951048951049\n"
     ]
    }
   ],
   "source": [
    "TP=cm[0][0]\n",
    "TN=cm[1][1]\n",
    "FN=cm[1][0]\n",
    "FP=cm[0][1]\n",
    "print(\"Testing accuracy of logistic regression model=\", (TP+TN)/(TP+TN+FN+FP))"
   ]
  },
  {
   "cell_type": "code",
   "execution_count": 33,
   "metadata": {},
   "outputs": [
    {
     "name": "stdout",
     "output_type": "stream",
     "text": [
      "Random Forest Training Accuracy with n_estimators = 100 is : 1.0\n",
      "Testing accuracy of random forest model with n_estimators = 100 is : 0.965034965035\n",
      "\n",
      "\n",
      "Random Forest Training Accuracy with n_estimators = 120 is : 1.0\n",
      "Testing accuracy of random forest model with n_estimators = 120 is : 0.972027972028\n",
      "\n",
      "\n",
      "Random Forest Training Accuracy with n_estimators = 140 is : 1.0\n",
      "Testing accuracy of random forest model with n_estimators = 140 is : 0.972027972028\n",
      "\n",
      "\n",
      "Random Forest Training Accuracy with n_estimators = 160 is : 1.0\n",
      "Testing accuracy of random forest model with n_estimators = 160 is : 0.965034965035\n",
      "\n",
      "\n",
      "Random Forest Training Accuracy with n_estimators = 180 is : 1.0\n",
      "Testing accuracy of random forest model with n_estimators = 180 is : 0.965034965035\n",
      "\n",
      "\n",
      "Random Forest Training Accuracy with n_estimators = 200 is : 1.0\n",
      "Testing accuracy of random forest model with n_estimators = 200 is : 0.965034965035\n",
      "\n",
      "\n"
     ]
    }
   ],
   "source": [
    "#random forest\n",
    "for i in range(100, 220, 20):\n",
    "    def rf_model(X_train, Y_train):\n",
    "        from sklearn.ensemble import RandomForestClassifier\n",
    "        rfc = RandomForestClassifier(n_estimators = i, random_state=0)\n",
    "        rfc.fit(X_train, Y_train)\n",
    "        print(\"Random Forest Training Accuracy with n_estimators = \" + str(i) + \" is :\", rfc.score(X_train, Y_train))\n",
    "        return rfc\n",
    "\n",
    "    rf_classifier = rf_model(X_train, Y_train)\n",
    "\n",
    "    cm = confusion_matrix(Y_test, rf_classifier.predict(X_test))\n",
    "    TP=cm[0][0]\n",
    "    TN=cm[1][1]\n",
    "    FN=cm[1][0]\n",
    "    FP=cm[0][1]\n",
    "    print(\"Testing accuracy of random forest model with n_estimators = \" + str(i) + \" is :\", (TP+TN)/(TP+TN+FN+FP))\n",
    "    print(\"\\n\")"
   ]
  },
  {
   "cell_type": "code",
   "execution_count": 12,
   "metadata": {},
   "outputs": [
    {
     "name": "stdout",
     "output_type": "stream",
     "text": [
      "Descision Tree Training Accuracy: 1.0\n",
      "Testing accuracy of Descision Tree model= 0.902097902098\n"
     ]
    }
   ],
   "source": [
    "#Decision tree classifier\n",
    "def tree_model(X_train, Y_train):\n",
    "    from sklearn.tree import DecisionTreeClassifier\n",
    "    dtree = DecisionTreeClassifier(random_state=0)\n",
    "    dtree.fit(X_train, Y_train)\n",
    "    print(\"Descision Tree Training Accuracy:\", dtree.score(X_train, Y_train))\n",
    "    return dtree\n",
    "\n",
    "tree_classifier = tree_model(X_train, Y_train)\n",
    "cm = confusion_matrix(Y_test, tree_classifier.predict(X_test))\n",
    "TP=cm[0][0]\n",
    "TN=cm[1][1]\n",
    "FN=cm[1][0]\n",
    "FP=cm[0][1]\n",
    "print(\"Testing accuracy of Descision Tree model=\", (TP+TN)/(TP+TN+FN+FP))"
   ]
  },
  {
   "cell_type": "code",
   "execution_count": 13,
   "metadata": {
    "collapsed": true
   },
   "outputs": [],
   "source": [
    "#Random Forest has maximum accuracy. Because it considers multiple trees which predict the output veriable independently to give final results as combination of all and ouperforms the descision tree and simple logistic regression model.  \n",
    "# If we further vary the number of estimators, we get better accuracy at 120 and 140 estimators which is 97.20%"
   ]
  }
 ],
 "metadata": {
  "kernelspec": {
   "display_name": "Python 3",
   "language": "python",
   "name": "python3"
  },
  "language_info": {
   "codemirror_mode": {
    "name": "ipython",
    "version": 3
   },
   "file_extension": ".py",
   "mimetype": "text/x-python",
   "name": "python",
   "nbconvert_exporter": "python",
   "pygments_lexer": "ipython3",
   "version": "3.6.3"
  }
 },
 "nbformat": 4,
 "nbformat_minor": 2
}
