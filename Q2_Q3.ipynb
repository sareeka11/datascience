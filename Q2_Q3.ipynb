{
 "cells": [
  {
   "cell_type": "code",
   "execution_count": 25,
   "metadata": {},
   "outputs": [
    {
     "name": "stdout",
     "output_type": "stream",
     "text": [
      "  Name  Income per month          State  Age Sex  Number of siblings\n",
      "0    A                50     Tamil Nadu   23   M                   0\n",
      "1    B                34      Karnataka   37   F                   3\n",
      "2    C                54     Tamil Nadu   35   F                   1\n",
      "3    D                24  Uttar Pradesh   26   F                   4\n",
      "4    E                19          Bihar   59   M                   5\n",
      "5    F                21          Bihar   48   M                   6\n",
      "6    G                40          Delhi   30   F                   2\n",
      "7    H                20  Uttar Pradesh   72   M                  10\n",
      "8    I                30      Telangana   22   F                   0\n",
      "9    J                18    Chattisgarh   42   M                   7\n"
     ]
    },
    {
     "data": {
      "text/html": [
       "<div>\n",
       "<style>\n",
       "    .dataframe thead tr:only-child th {\n",
       "        text-align: right;\n",
       "    }\n",
       "\n",
       "    .dataframe thead th {\n",
       "        text-align: left;\n",
       "    }\n",
       "\n",
       "    .dataframe tbody tr th {\n",
       "        vertical-align: top;\n",
       "    }\n",
       "</style>\n",
       "<table border=\"1\" class=\"dataframe\">\n",
       "  <thead>\n",
       "    <tr style=\"text-align: right;\">\n",
       "      <th></th>\n",
       "      <th>UserName</th>\n",
       "      <th>Income/month</th>\n",
       "      <th>Age in years</th>\n",
       "      <th>sex</th>\n",
       "      <th>Siblings</th>\n",
       "    </tr>\n",
       "  </thead>\n",
       "  <tbody>\n",
       "    <tr>\n",
       "      <th>0</th>\n",
       "      <td>A</td>\n",
       "      <td>50</td>\n",
       "      <td>23</td>\n",
       "      <td>M</td>\n",
       "      <td>0</td>\n",
       "    </tr>\n",
       "    <tr>\n",
       "      <th>1</th>\n",
       "      <td>B</td>\n",
       "      <td>34</td>\n",
       "      <td>37</td>\n",
       "      <td>F</td>\n",
       "      <td>3</td>\n",
       "    </tr>\n",
       "    <tr>\n",
       "      <th>2</th>\n",
       "      <td>C</td>\n",
       "      <td>54</td>\n",
       "      <td>35</td>\n",
       "      <td>F</td>\n",
       "      <td>1</td>\n",
       "    </tr>\n",
       "    <tr>\n",
       "      <th>3</th>\n",
       "      <td>D</td>\n",
       "      <td>24</td>\n",
       "      <td>26</td>\n",
       "      <td>F</td>\n",
       "      <td>4</td>\n",
       "    </tr>\n",
       "    <tr>\n",
       "      <th>4</th>\n",
       "      <td>E</td>\n",
       "      <td>19</td>\n",
       "      <td>59</td>\n",
       "      <td>M</td>\n",
       "      <td>5</td>\n",
       "    </tr>\n",
       "  </tbody>\n",
       "</table>\n",
       "</div>"
      ],
      "text/plain": [
       "  UserName  Income/month  Age in years sex  Siblings\n",
       "0        A            50            23   M         0\n",
       "1        B            34            37   F         3\n",
       "2        C            54            35   F         1\n",
       "3        D            24            26   F         4\n",
       "4        E            19            59   M         5"
      ]
     },
     "execution_count": 25,
     "metadata": {},
     "output_type": "execute_result"
    }
   ],
   "source": [
    "import pandas as pd\n",
    "#df=pd.read_csv()\n",
    "#df=pd.read_excel()\n",
    "df=pd.read_excel(r\"D:\\Workshop\\Datascience\\Breast-Cancer-Detection-using-Machine-Learning-master\\Week 1 Dataset.xlsx\")\n",
    "print(df)\n",
    "#Q2\n",
    "df1=df.rename(columns={\"State\":\"State_name\",\"Name\":\"UserName\",\"Income per month\":\"Income/month\",\"Age\":\"Age in years\",\"Sex\":\"sex\",\"Number of siblings\":\"Siblings\"})\n",
    "df1\n",
    "#Q3\n",
    "#Dropping State_name column\n",
    "df1.drop('State_name', axis=1).head()\n",
    "#drop() has inplace=false by-default\n",
    "df1.head()\n",
    "#drop() inplace=true\n",
    "df1.drop('State_name',axis=1,inplace=True)\n",
    "df1.head()"
   ]
  }
 ],
 "metadata": {
  "kernelspec": {
   "display_name": "Python 3",
   "language": "python",
   "name": "python3"
  },
  "language_info": {
   "codemirror_mode": {
    "name": "ipython",
    "version": 3
   },
   "file_extension": ".py",
   "mimetype": "text/x-python",
   "name": "python",
   "nbconvert_exporter": "python",
   "pygments_lexer": "ipython3",
   "version": "3.6.3"
  }
 },
 "nbformat": 4,
 "nbformat_minor": 2
}
